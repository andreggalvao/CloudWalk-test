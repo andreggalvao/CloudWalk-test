{
 "cells": [
  {
   "cell_type": "code",
   "execution_count": 39,
   "metadata": {},
   "outputs": [],
   "source": [
    "import pandas as pd\n",
    "import seaborn as sns\n",
    "import matplotlib.pyplot as plt\n",
    "import numpy as np\n",
    "\n",
    "\n",
    "sns.set_theme(style=\"darkgrid\", palette = 'Set2')"
   ]
  },
  {
   "cell_type": "markdown",
   "metadata": {},
   "source": [
    "As we did the data analysis in the first part of the problem, here we will focus on implementing a simple anti-fraud concept.\n",
    "\n",
    "Although we don't have a very large base, we will continue with the machine learning application for fraud detection and a final implementation."
   ]
  },
  {
   "cell_type": "code",
   "execution_count": 40,
   "metadata": {},
   "outputs": [
    {
     "name": "stdout",
     "output_type": "stream",
     "text": [
      "<class 'pandas.core.frame.DataFrame'>\n",
      "RangeIndex: 3199 entries, 0 to 3198\n",
      "Data columns (total 8 columns):\n",
      " #   Column              Non-Null Count  Dtype  \n",
      "---  ------              --------------  -----  \n",
      " 0   transaction_id      3199 non-null   int64  \n",
      " 1   merchant_id         3199 non-null   int64  \n",
      " 2   user_id             3199 non-null   int64  \n",
      " 3   card_number         3199 non-null   object \n",
      " 4   transaction_date    3199 non-null   object \n",
      " 5   transaction_amount  3199 non-null   float64\n",
      " 6   device_id           2369 non-null   float64\n",
      " 7   has_cbk             3199 non-null   bool   \n",
      "dtypes: bool(1), float64(2), int64(3), object(2)\n",
      "memory usage: 178.2+ KB\n"
     ]
    }
   ],
   "source": [
    "# Read data\n",
    "dados = pd.read_csv('transactional-sample.csv')\n",
    "dados.info()"
   ]
  },
  {
   "cell_type": "markdown",
   "metadata": {},
   "source": [
    "As observed in the data analysis, the device_id column did not show much relevance and since more than 25% of the data is missing, I decided to exclude it, rather than eliminating the lines where the values are missing."
   ]
  },
  {
   "cell_type": "code",
   "execution_count": 41,
   "metadata": {},
   "outputs": [
    {
     "name": "stdout",
     "output_type": "stream",
     "text": [
      "<class 'pandas.core.frame.DataFrame'>\n",
      "RangeIndex: 3199 entries, 0 to 3198\n",
      "Data columns (total 7 columns):\n",
      " #   Column              Non-Null Count  Dtype  \n",
      "---  ------              --------------  -----  \n",
      " 0   transaction_id      3199 non-null   int64  \n",
      " 1   merchant_id         3199 non-null   int64  \n",
      " 2   user_id             3199 non-null   int64  \n",
      " 3   card_number         3199 non-null   object \n",
      " 4   transaction_date    3199 non-null   object \n",
      " 5   transaction_amount  3199 non-null   float64\n",
      " 6   has_cbk             3199 non-null   bool   \n",
      "dtypes: bool(1), float64(1), int64(3), object(2)\n",
      "memory usage: 153.2+ KB\n"
     ]
    }
   ],
   "source": [
    "dados.drop(columns = 'device_id', inplace = True)\n",
    "dados.info()"
   ]
  },
  {
   "cell_type": "code",
   "execution_count": 42,
   "metadata": {},
   "outputs": [],
   "source": [
    "\n",
    "# Adjusting the date issue and breaking it down to better use the information\n",
    "dados['transaction_date'] = pd.to_datetime(dados['transaction_date'])\n",
    "dados['dia'] = dados['transaction_date'].dt.day\n",
    "dados['mês'] = dados['transaction_date'].dt.month\n",
    "dados['dia_semana'] = dados['transaction_date'].dt.dayofweek\n",
    "dados['horario'] = dados['transaction_date'].dt.time\n",
    "dados['horario'] = dados['transaction_date'].dt.hour * 3600 + dados['transaction_date'].dt.minute * 60 + dados['transaction_date'].dt.second\n",
    "dados.drop(columns = 'transaction_date', inplace = True)\n",
    "\n",
    "# Transforming True = 1 and False = 0\n",
    "dados['has_cbk'] = dados['has_cbk'].astype(int)"
   ]
  },
  {
   "cell_type": "code",
   "execution_count": 43,
   "metadata": {},
   "outputs": [
    {
     "data": {
      "text/html": [
       "<div>\n",
       "<style scoped>\n",
       "    .dataframe tbody tr th:only-of-type {\n",
       "        vertical-align: middle;\n",
       "    }\n",
       "\n",
       "    .dataframe tbody tr th {\n",
       "        vertical-align: top;\n",
       "    }\n",
       "\n",
       "    .dataframe thead th {\n",
       "        text-align: right;\n",
       "    }\n",
       "</style>\n",
       "<table border=\"1\" class=\"dataframe\">\n",
       "  <thead>\n",
       "    <tr style=\"text-align: right;\">\n",
       "      <th></th>\n",
       "      <th>transaction_id</th>\n",
       "      <th>merchant_id</th>\n",
       "      <th>user_id</th>\n",
       "      <th>card_number</th>\n",
       "      <th>transaction_amount</th>\n",
       "      <th>has_cbk</th>\n",
       "      <th>dia</th>\n",
       "      <th>mês</th>\n",
       "      <th>dia_semana</th>\n",
       "      <th>horario</th>\n",
       "    </tr>\n",
       "  </thead>\n",
       "  <tbody>\n",
       "    <tr>\n",
       "      <th>0</th>\n",
       "      <td>21320398</td>\n",
       "      <td>29744</td>\n",
       "      <td>97051</td>\n",
       "      <td>434505******9116</td>\n",
       "      <td>374.56</td>\n",
       "      <td>0</td>\n",
       "      <td>1</td>\n",
       "      <td>12</td>\n",
       "      <td>6</td>\n",
       "      <td>83792</td>\n",
       "    </tr>\n",
       "    <tr>\n",
       "      <th>1</th>\n",
       "      <td>21320399</td>\n",
       "      <td>92895</td>\n",
       "      <td>2708</td>\n",
       "      <td>444456******4210</td>\n",
       "      <td>734.87</td>\n",
       "      <td>1</td>\n",
       "      <td>1</td>\n",
       "      <td>12</td>\n",
       "      <td>6</td>\n",
       "      <td>81937</td>\n",
       "    </tr>\n",
       "    <tr>\n",
       "      <th>2</th>\n",
       "      <td>21320400</td>\n",
       "      <td>47759</td>\n",
       "      <td>14777</td>\n",
       "      <td>425850******7024</td>\n",
       "      <td>760.36</td>\n",
       "      <td>0</td>\n",
       "      <td>1</td>\n",
       "      <td>12</td>\n",
       "      <td>6</td>\n",
       "      <td>80563</td>\n",
       "    </tr>\n",
       "    <tr>\n",
       "      <th>3</th>\n",
       "      <td>21320401</td>\n",
       "      <td>68657</td>\n",
       "      <td>69758</td>\n",
       "      <td>464296******3991</td>\n",
       "      <td>2556.13</td>\n",
       "      <td>1</td>\n",
       "      <td>1</td>\n",
       "      <td>12</td>\n",
       "      <td>6</td>\n",
       "      <td>79159</td>\n",
       "    </tr>\n",
       "    <tr>\n",
       "      <th>4</th>\n",
       "      <td>21320402</td>\n",
       "      <td>54075</td>\n",
       "      <td>64367</td>\n",
       "      <td>650487******6116</td>\n",
       "      <td>55.36</td>\n",
       "      <td>0</td>\n",
       "      <td>1</td>\n",
       "      <td>12</td>\n",
       "      <td>6</td>\n",
       "      <td>77453</td>\n",
       "    </tr>\n",
       "  </tbody>\n",
       "</table>\n",
       "</div>"
      ],
      "text/plain": [
       "   transaction_id  merchant_id  user_id       card_number  transaction_amount   \n",
       "0        21320398        29744    97051  434505******9116              374.56  \\\n",
       "1        21320399        92895     2708  444456******4210              734.87   \n",
       "2        21320400        47759    14777  425850******7024              760.36   \n",
       "3        21320401        68657    69758  464296******3991             2556.13   \n",
       "4        21320402        54075    64367  650487******6116               55.36   \n",
       "\n",
       "   has_cbk  dia  mês  dia_semana  horario  \n",
       "0        0    1   12           6    83792  \n",
       "1        1    1   12           6    81937  \n",
       "2        0    1   12           6    80563  \n",
       "3        1    1   12           6    79159  \n",
       "4        0    1   12           6    77453  "
      ]
     },
     "execution_count": 43,
     "metadata": {},
     "output_type": "execute_result"
    }
   ],
   "source": [
    "dados.head()"
   ]
  },
  {
   "cell_type": "code",
   "execution_count": 44,
   "metadata": {},
   "outputs": [],
   "source": [
    "#T o avoid problems with encoding methods, we will need to remove the * from it and use the first 6 digits along with the last 4\n",
    "dados['card_number'] = dados['card_number'].str.replace('*', '')\n",
    "dados['card_number'] = pd.to_numeric(dados['card_number'])"
   ]
  },
  {
   "cell_type": "markdown",
   "metadata": {},
   "source": [
    "Usually in datasets of problems related to fraud detection, we have a significant unbalance of the target variables, a situation that is not so significant in this one, because of that we will not work with any form of oversampling or undersampling"
   ]
  },
  {
   "cell_type": "code",
   "execution_count": 45,
   "metadata": {},
   "outputs": [],
   "source": [
    "# Splitting the dataframe\n",
    "X = dados.drop(columns = 'has_cbk')\n",
    "y = dados[['has_cbk']]\n"
   ]
  },
  {
   "cell_type": "code",
   "execution_count": 46,
   "metadata": {},
   "outputs": [],
   "source": [
    "# Preprocessing\n",
    "from sklearn.model_selection import train_test_split, cross_val_score, GridSearchCV, RandomizedSearchCV\n",
    "from sklearn.preprocessing import StandardScaler, MinMaxScaler, Normalizer\n",
    "from sklearn.compose import ColumnTransformer\n",
    "from sklearn.pipeline import Pipeline\n",
    "\n",
    "# Classification Models\n",
    "from sklearn.linear_model import LogisticRegression\n",
    "from sklearn.ensemble import RandomForestClassifier, GradientBoostingClassifier\n",
    "from sklearn.tree import DecisionTreeClassifier\n",
    "from xgboost import XGBClassifier\n",
    "from sklearn import svm\n",
    "import lightgbm as lgb\n",
    "from sklearn.neural_network import MLPClassifier\n",
    "from sklearn.naive_bayes import GaussianNB\n",
    "\n",
    "# Metrics\n",
    "from sklearn.metrics import recall_score, f1_score, make_scorer, confusion_matrix, accuracy_score\n"
   ]
  },
  {
   "cell_type": "code",
   "execution_count": 47,
   "metadata": {},
   "outputs": [],
   "source": [
    "# Split train test\n",
    "SEED = 123\n",
    "X_train, X_test, y_train, y_test = train_test_split(X, y, test_size=0.25, stratify = y, random_state = SEED)"
   ]
  },
  {
   "cell_type": "code",
   "execution_count": 48,
   "metadata": {},
   "outputs": [
    {
     "name": "stderr",
     "output_type": "stream",
     "text": [
      "c:\\Users\\andre.galvao\\AppData\\Local\\Programs\\Python\\Python311\\Lib\\site-packages\\sklearn\\utils\\validation.py:1184: DataConversionWarning: A column-vector y was passed when a 1d array was expected. Please change the shape of y to (n_samples, ), for example using ravel().\n",
      "  y = column_or_1d(y, warn=True)\n",
      "c:\\Users\\andre.galvao\\AppData\\Local\\Programs\\Python\\Python311\\Lib\\site-packages\\sklearn\\base.py:1151: DataConversionWarning: A column-vector y was passed when a 1d array was expected. Please change the shape of y to (n_samples,), for example using ravel().\n",
      "  return fit_method(estimator, *args, **kwargs)\n",
      "c:\\Users\\andre.galvao\\AppData\\Local\\Programs\\Python\\Python311\\Lib\\site-packages\\sklearn\\utils\\validation.py:1184: DataConversionWarning: A column-vector y was passed when a 1d array was expected. Please change the shape of y to (n_samples, ), for example using ravel().\n",
      "  y = column_or_1d(y, warn=True)\n",
      "c:\\Users\\andre.galvao\\AppData\\Local\\Programs\\Python\\Python311\\Lib\\site-packages\\sklearn\\preprocessing\\_label.py:97: DataConversionWarning: A column-vector y was passed when a 1d array was expected. Please change the shape of y to (n_samples, ), for example using ravel().\n",
      "  y = column_or_1d(y, warn=True)\n",
      "c:\\Users\\andre.galvao\\AppData\\Local\\Programs\\Python\\Python311\\Lib\\site-packages\\sklearn\\preprocessing\\_label.py:132: DataConversionWarning: A column-vector y was passed when a 1d array was expected. Please change the shape of y to (n_samples, ), for example using ravel().\n",
      "  y = column_or_1d(y, dtype=self.classes_.dtype, warn=True)\n",
      "c:\\Users\\andre.galvao\\AppData\\Local\\Programs\\Python\\Python311\\Lib\\site-packages\\sklearn\\ensemble\\_gb.py:424: DataConversionWarning: A column-vector y was passed when a 1d array was expected. Please change the shape of y to (n_samples, ), for example using ravel().\n",
      "  y = column_or_1d(y, warn=True)\n",
      "c:\\Users\\andre.galvao\\AppData\\Local\\Programs\\Python\\Python311\\Lib\\site-packages\\sklearn\\neural_network\\_multilayer_perceptron.py:1102: DataConversionWarning: A column-vector y was passed when a 1d array was expected. Please change the shape of y to (n_samples, ), for example using ravel().\n",
      "  y = column_or_1d(y, warn=True)\n",
      "c:\\Users\\andre.galvao\\AppData\\Local\\Programs\\Python\\Python311\\Lib\\site-packages\\sklearn\\neural_network\\_multilayer_perceptron.py:691: ConvergenceWarning: Stochastic Optimizer: Maximum iterations (200) reached and the optimization hasn't converged yet.\n",
      "  warnings.warn(\n",
      "c:\\Users\\andre.galvao\\AppData\\Local\\Programs\\Python\\Python311\\Lib\\site-packages\\sklearn\\utils\\validation.py:1184: DataConversionWarning: A column-vector y was passed when a 1d array was expected. Please change the shape of y to (n_samples, ), for example using ravel().\n",
      "  y = column_or_1d(y, warn=True)\n"
     ]
    },
    {
     "name": "stdout",
     "output_type": "stream",
     "text": [
      "Logistic Regression - Recall: 0.0816 - Accuracy : 0.8825 - F1-Score: 0.1455\n",
      "Decision Trees - Recall: 0.6020 - Accuracy : 0.89125 - F1-Score: 0.5756\n",
      "Random Forest - Recall: 0.4490 - Accuracy : 0.91375 - F1-Score: 0.5605\n",
      "Support Vector Machines - Recall: 0.0102 - Accuracy : 0.87875 - F1-Score: 0.0202\n",
      "XGBoost - Recall: 0.5918 - Accuracy : 0.92625 - F1-Score: 0.6629\n",
      "LightGBM - Recall: 0.5714 - Accuracy : 0.9275 - F1-Score: 0.6588\n",
      "GradientBoostingClassifier - Recall: 0.3469 - Accuracy : 0.9075 - F1-Score: 0.4789\n",
      "MLPClassifier - Recall: 0.1735 - Accuracy : 0.88875 - F1-Score: 0.2764\n",
      "GaussianNB - Recall: 0.2959 - Accuracy : 0.83625 - F1-Score: 0.3069\n"
     ]
    }
   ],
   "source": [
    "\n",
    "# Preparing columns\n",
    "numeric_transformer = Pipeline(steps = [\n",
    "      ('scaler', MinMaxScaler())\n",
    "])\n",
    "\n",
    "colunas_numericas = X.select_dtypes(include = np.number).columns\n",
    "\n",
    "preprocessor = ColumnTransformer(\n",
    "   transformers = [('numeric', numeric_transformer, colunas_numericas)]\n",
    "   ) \n",
    "\n",
    "# Structuring pipeline with multiple projects\n",
    "\n",
    "\n",
    "pipe_lr = Pipeline([('preprocessor', preprocessor),\n",
    "                    ('LR', LogisticRegression(random_state = SEED))])\n",
    "pipe_dt = Pipeline([('preprocessor', preprocessor),\n",
    "                    ('DT',DecisionTreeClassifier(random_state = SEED))])\n",
    "pipe_rf = Pipeline([('preprocessor', preprocessor),\n",
    "                    ('RF',RandomForestClassifier(random_state = SEED))])\n",
    "pipe_svm = Pipeline([('preprocessor', preprocessor),\n",
    "                     ('SVM', svm.SVC(random_state = SEED))])\n",
    "pipe_xgb = Pipeline([('preprocessor', preprocessor),\n",
    "                     ('XGB', XGBClassifier(random_state = SEED))])\n",
    "pipe_lgb = Pipeline([('preprocessor', preprocessor),\n",
    "                     ('LGB', lgb.LGBMClassifier(random_state = SEED))])\n",
    "pipe_gb = Pipeline([('preprocessor', preprocessor),\n",
    "                    ('GB', GradientBoostingClassifier(random_state=SEED))])\n",
    "pipe_mlp = Pipeline([('preprocessor', preprocessor),\n",
    "                     ('MLP', MLPClassifier(random_state=SEED))])\n",
    "pipe_nb = Pipeline([('preprocessor', preprocessor),\n",
    "                    ('NB', GaussianNB())])\n",
    "\n",
    "# Models fit\n",
    "pipelines = [pipe_lr, pipe_dt, pipe_rf, pipe_svm, pipe_xgb, pipe_lgb, pipe_gb, pipe_mlp, pipe_nb]\n",
    "for pipe in pipelines:\n",
    "  pipe.fit(X_train, y_train)\n",
    "\n",
    "\n",
    "\n",
    "grid_dict = {0: 'Logistic Regression', 1: 'Decision Trees', \n",
    "             2: 'Random Forest', 3: 'Support Vector Machines',\n",
    "             4: 'XGBoost', 5: 'LightGBM', 6 : 'GradientBoostingClassifier',\n",
    "              7 :  'MLPClassifier', 8 : 'GaussianNB'}\n",
    "\n",
    "# Evaluating the metrics\n",
    "for i, model in enumerate(pipelines):\n",
    "    y_pred = model.predict(X_test)\n",
    "    recall = recall_score(y_test, y_pred)\n",
    "    f1 = f1_score(y_test, y_pred)\n",
    "    print('{} - Recall: {:.4f} - Accuracy : {} - F1-Score: {:.4f}'.format(grid_dict[i], recall, model.score(X_test,y_test), f1))\n"
   ]
  },
  {
   "attachments": {},
   "cell_type": "markdown",
   "metadata": {},
   "source": [
    "Generally, in the context of fraud detection, recall and F1-Score are more relevant metrics, as they prioritize the correct identification of fraudulent transactions and the minimization of false negatives.\n",
    "Let's take a closer look at XGBOOST, which was the algorithm that performed best"
   ]
  },
  {
   "cell_type": "code",
   "execution_count": 49,
   "metadata": {},
   "outputs": [
    {
     "data": {
      "image/png": "[encoded data removed]",
      "text/plain": [
       "<Figure size 640x480 with 2 Axes>"
      ]
     },
     "metadata": {},
     "output_type": "display_data"
    },
    {
     "name": "stdout",
     "output_type": "stream",
     "text": [
      "XGBoost - Recall: 0.5918 - Accuracy : 0.92625 - F1-Score: 0.6629\n"
     ]
    }
   ],
   "source": [
    "from sklearn.metrics import confusion_matrix\n",
    "import matplotlib.pyplot as plt\n",
    "import seaborn as sns\n",
    "\n",
    "pipelines = [pipe_xgb]\n",
    "\n",
    "grid_dict = {0:'XGBoost'}\n",
    "\n",
    "for i, model in enumerate(pipelines):\n",
    "    y_pred = model.predict(X_test)\n",
    "    recall = recall_score(y_test, y_pred)\n",
    "    f1 = f1_score(y_test, y_pred)\n",
    "    \n",
    "    # Calculate the confusion matrix\n",
    "    cm = confusion_matrix(y_test, y_pred)\n",
    "    \n",
    "    # Plot\n",
    "    plt.figure()\n",
    "    sns.heatmap(cm, annot=True, cmap='Blues', fmt='g')\n",
    "    plt.title('{} - Confusion Matrix'.format(grid_dict[i]))\n",
    "    plt.xlabel('Predicted')\n",
    "    plt.ylabel('True')\n",
    "    plt.show()\n",
    "   \n",
    "    # Print the evaluation metrics\n",
    "    print('{} - Recall: {:.4f} - Accuracy : {} - F1-Score: {:.4f}'.format(grid_dict[i], recall, model.score(X_test,y_test), f1))\n",
    "\n"
   ]
  },
  {
   "cell_type": "markdown",
   "metadata": {},
   "source": [
    "XGBoost - Recall: 0.5918 - Accuracy : 0.92625 - F1-Score: 0.6629"
   ]
  },
  {
   "attachments": {},
   "cell_type": "markdown",
   "metadata": {},
   "source": [
    "### Tuning Hyperparameters"
   ]
  },
  {
   "cell_type": "code",
   "execution_count": 50,
   "metadata": {},
   "outputs": [
    {
     "data": {
      "image/png": "[encoded data removed]",
      "text/plain": [
       "<Figure size 640x480 with 2 Axes>"
      ]
     },
     "metadata": {},
     "output_type": "display_data"
    },
    {
     "name": "stdout",
     "output_type": "stream",
     "text": [
      "XGBoost - Recall: 0.5510 - Accuracy : 0.9275 - F1-Score: 0.6506\n"
     ]
    }
   ],
   "source": [
    "from scipy.stats import uniform, randint\n",
    "\n",
    "# Grid of hyperparameters\n",
    "xgb_param_grid = [{'XGB__learning_rate': uniform(0.01, 0.5),\n",
    "              'XGB__max_depth': randint(3, 15),\n",
    "              'XGB__n_estimators': randint(100, 1000),\n",
    "              'XGB__gamma': uniform(0, 1),\n",
    "              'XGB__min_child_weight': randint(1, 10),\n",
    "              'XGB__subsample': uniform(0.5, 0.5),\n",
    "              'XGB__colsample_bytree': uniform(0.5, 0.5),\n",
    "              'XGB__reg_alpha': uniform(0, 1),\n",
    "              'XGB__reg_lambda': uniform(0, 1)}]\n",
    "\n",
    "\n",
    "\n",
    "xgb_param_grid = {\n",
    "    'XGB__learning_rate': [0.01, 0.05, 0.1, 0.2, 0.3],\n",
    "    'XGB__max_depth': [3, 5, 7, 9, 11, 13],\n",
    "    'XGB__n_estimators': [100, 200, 300, 400, 500],\n",
    "    'XGB__gamma': [0, 0.1, 0.2, 0.3, 0.4],\n",
    "    'XGB__min_child_weight': [1, 3, 5, 7, 9],\n",
    "    'XGB__subsample': [0.6, 0.7, 0.8, 0.9],\n",
    "    'XGB__colsample_bytree': [0.6, 0.7, 0.8, 0.9],\n",
    "    'XGB__reg_alpha': [0, 0.1, 0.5, 1],\n",
    "    'XGB__reg_lambda': [0, 0.1, 0.5, 1]\n",
    "}\n",
    "\n",
    "\n",
    "\n",
    "# RandomizedSearchCV setup\n",
    "xgb_grid_search = RandomizedSearchCV(estimator=pipe_xgb,\n",
    "        param_distributions=xgb_param_grid,\n",
    "        scoring = make_scorer(accuracy_score),\n",
    "        cv = 5)\n",
    "\n",
    "# Model fit\n",
    "grids = [xgb_grid_search]\n",
    "for pipe in grids:\n",
    "    pipe.fit(X_train,y_train)\n",
    "\n",
    "pipelines = [xgb_grid_search]\n",
    "grid_dict = {0:'XGBoost'}\n",
    "\n",
    "recall = 0\n",
    "\n",
    "\n",
    "# Evaluating the metrics\n",
    "for i, model in enumerate(pipelines):\n",
    "    y_pred = model.predict(X_test)\n",
    "    recall = recall_score(y_test, y_pred)\n",
    "    f1 = f1_score(y_test, y_pred)\n",
    "    \n",
    "    # Confusion Matrix\n",
    "    cm = confusion_matrix(y_test, y_pred)\n",
    "    \n",
    "    # Plota\n",
    "    plt.figure()\n",
    "    sns.heatmap(cm, annot=True, cmap='Blues', fmt='g')\n",
    "    plt.title('{} - Confusion Matrix'.format(grid_dict[i]))\n",
    "    plt.xlabel('Predicted')\n",
    "    plt.ylabel('True')\n",
    "    plt.show()\n",
    "\n",
    "    # Imprime as métricas de avaliação\n",
    "    print('{} - Recall: {:.4f} - Accuracy : {} - F1-Score: {:.4f}'.format(grid_dict[i], recall, model.score(X_test,y_test), f1))\n",
    "    \n"
   ]
  },
  {
   "attachments": {},
   "cell_type": "markdown",
   "metadata": {},
   "source": [
    "xgb_grid_search.best_params_\n",
    "\n",
    "{'XGB__subsample': 0.8,\n",
    " 'XGB__reg_lambda': 0.1,\n",
    " 'XGB__reg_alpha': 0,\n",
    " 'XGB__n_estimators': 400,\n",
    " 'XGB__min_child_weight': 3,\n",
    " 'XGB__max_depth': 7,\n",
    " 'XGB__learning_rate': 0.1,\n",
    " 'XGB__gamma': 0,\n",
    " 'XGB__colsample_bytree': 0.7}"
   ]
  },
  {
   "cell_type": "markdown",
   "metadata": {},
   "source": []
  },
  {
   "attachments": {},
   "cell_type": "markdown",
   "metadata": {},
   "source": [
    "## Saving model"
   ]
  },
  {
   "cell_type": "code",
   "execution_count": 51,
   "metadata": {},
   "outputs": [],
   "source": [
    "import pickle   \n",
    "\n",
    "#with open('modelo_treinado.pkl', 'wb') as file:\n",
    "#    pickle.dump(pipe_xgb, file)"
   ]
  },
  {
   "cell_type": "code",
   "execution_count": null,
   "metadata": {},
   "outputs": [],
   "source": []
  }
 ],
 "metadata": {
  "kernelspec": {
   "display_name": "Python 3",
   "language": "python",
   "name": "python3"
  },
  "language_info": {
   "codemirror_mode": {
    "name": "ipython",
    "version": 3
   },
   "file_extension": ".py",
   "mimetype": "text/x-python",
   "name": "python",
   "nbconvert_exporter": "python",
   "pygments_lexer": "ipython3",
   "version": "3.11.3"
  },
  "orig_nbformat": 4
 },
 "nbformat": 4,
 "nbformat_minor": 2
}
